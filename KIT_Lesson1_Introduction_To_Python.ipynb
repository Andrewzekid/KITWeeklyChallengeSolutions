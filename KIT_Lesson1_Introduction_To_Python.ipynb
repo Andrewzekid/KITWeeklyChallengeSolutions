{
 "cells": [
  {
   "cell_type": "markdown",
   "id": "d49f348b",
   "metadata": {},
   "source": [
    "# KIT Lesson 1 - Variables in Python\n",
    "In this Lesson, we will be practicing our skills with variables"
   ]
  },
  {
   "cell_type": "markdown",
   "id": "b97e92d6",
   "metadata": {},
   "source": [
    "### Assigning Variables\n",
    "To assign a variable name to the value \"mike\", we can just simply say:\n",
    "\n",
    "```\n",
    "name = \"mike\"\n",
    "```\n",
    "\n",
    "To see the value of a variable, simply use print(variable_name)\n",
    "\n",
    "```\n",
    "print(name)\n",
    "```\n",
    "\n",
    "Note: \"mike\" is a string data type, which we will talk about in the next lesson."
   ]
  },
  {
   "cell_type": "code",
   "execution_count": 2,
   "id": "623af822",
   "metadata": {},
   "outputs": [
    {
     "name": "stdout",
     "output_type": "stream",
     "text": [
      "thebestyear\n"
     ]
    }
   ],
   "source": [
    "#Your turn, try assigning a variable \"year\" and set its value to thebestyear\n",
    "\n",
    "print(year)"
   ]
  },
  {
   "cell_type": "code",
   "execution_count": null,
   "id": "abf927da",
   "metadata": {},
   "outputs": [],
   "source": [
    "#Use the print function to see the value of the variable service_name\n",
    "service_name = \"KIT\"\n"
   ]
  },
  {
   "cell_type": "code",
   "execution_count": null,
   "id": "f53276ba",
   "metadata": {},
   "outputs": [],
   "source": [
    "#Combined Practice - assign & print\n",
    "#create a variable school_name and assign it to the value \"KIST\". Print this variable.\n"
   ]
  },
  {
   "cell_type": "markdown",
   "id": "b455969c",
   "metadata": {},
   "source": [
    "### Inputs\n",
    "In order to have the user input a value, we use the input() function. For example:\n",
    "```\n",
    "input(\"What is your name?\")\n",
    "```\n",
    "\n",
    "Will prompt the user to enter their name\n"
   ]
  },
  {
   "cell_type": "code",
   "execution_count": 4,
   "id": "b41e4705",
   "metadata": {},
   "outputs": [
    {
     "name": "stdout",
     "output_type": "stream",
     "text": [
      "What is your name?Andre\n"
     ]
    },
    {
     "data": {
      "text/plain": [
       "'Andre'"
      ]
     },
     "execution_count": 4,
     "metadata": {},
     "output_type": "execute_result"
    }
   ],
   "source": [
    "#Lets see it in action -> run this cell and type a value in the input box.\n",
    "#press enter after you have typed a value\n",
    "input(\"What is your name?\")"
   ]
  },
  {
   "cell_type": "markdown",
   "id": "ed3e7f3f",
   "metadata": {},
   "source": [
    "The result of an input can also be assigned to a variable."
   ]
  },
  {
   "cell_type": "code",
   "execution_count": 5,
   "id": "2bc980c5",
   "metadata": {},
   "outputs": [
    {
     "name": "stdout",
     "output_type": "stream",
     "text": [
      "What is your name?Andre\n"
     ]
    }
   ],
   "source": [
    "name = input(\"What is your name?\")"
   ]
  },
  {
   "cell_type": "code",
   "execution_count": 6,
   "id": "74dbc7ca",
   "metadata": {},
   "outputs": [
    {
     "name": "stdout",
     "output_type": "stream",
     "text": [
      "Andre\n"
     ]
    }
   ],
   "source": [
    "#If we see the value of the variable name, we see that it is indeed \"Andre\"\n",
    "print(name) "
   ]
  },
  {
   "cell_type": "code",
   "execution_count": null,
   "id": "c839595b",
   "metadata": {},
   "outputs": [],
   "source": [
    "#Your turn! Ask the user for their age and print the result\n",
    "\n",
    "\n"
   ]
  },
  {
   "cell_type": "markdown",
   "id": "332bd262",
   "metadata": {},
   "source": [
    "### Challenge - Putting it all together"
   ]
  },
  {
   "cell_type": "code",
   "execution_count": null,
   "id": "c6227fb5",
   "metadata": {},
   "outputs": [],
   "source": [
    "#Ask a user for their place of birth and the school they go to. \n",
    "#After you have done that, print the value of both variables."
   ]
  }
 ],
 "metadata": {
  "kernelspec": {
   "display_name": "Python 3 (ipykernel)",
   "language": "python",
   "name": "python3"
  },
  "language_info": {
   "codemirror_mode": {
    "name": "ipython",
    "version": 3
   },
   "file_extension": ".py",
   "mimetype": "text/x-python",
   "name": "python",
   "nbconvert_exporter": "python",
   "pygments_lexer": "ipython3",
   "version": "3.9.12"
  }
 },
 "nbformat": 4,
 "nbformat_minor": 5
}
