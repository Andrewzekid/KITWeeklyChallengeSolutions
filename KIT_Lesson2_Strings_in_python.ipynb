{
 "cells": [
  {
   "cell_type": "markdown",
   "id": "55ac6ae4",
   "metadata": {},
   "source": [
    "# Strings & Datatypes in python\n",
    "Last time we learnt about how to use and manipulate variables in python. \n",
    "This time, we will be looking at strings and datatypes. Variables can store data of different types, and different types can do different things. For example, whole numbers will be of the integer (int) datatype in python. text, such as \"hello\" will be of the string (str) data type in python. \n",
    "We can check the datatype of the value that a variable stores with the type() function"
   ]
  },
  {
   "cell_type": "code",
   "execution_count": 1,
   "id": "1ca2f3f2",
   "metadata": {},
   "outputs": [
    {
     "data": {
      "text/plain": [
       "str"
      ]
     },
     "execution_count": 1,
     "metadata": {},
     "output_type": "execute_result"
    }
   ],
   "source": [
    "#Print out the datatype of the variable text\n",
    "text = \"hello world!\"\n"
   ]
  },
  {
   "cell_type": "code",
   "execution_count": 3,
   "id": "8f4d6b8e",
   "metadata": {},
   "outputs": [
    {
     "data": {
      "text/plain": [
       "str"
      ]
     },
     "execution_count": 3,
     "metadata": {},
     "output_type": "execute_result"
    }
   ],
   "source": [
    "#create a variable greeting, and set it equal to \"how are you doing today?\"\n",
    "\n",
    "#print out the datatype of greeting\n"
   ]
  },
  {
   "cell_type": "code",
   "execution_count": 4,
   "id": "bbe4715f",
   "metadata": {},
   "outputs": [],
   "source": [
    "#Now, lets see what happens when we print the datatype of a number:\n",
    "num = 420\n",
    "\n",
    "#Print the datatype of num\n"
   ]
  },
  {
   "cell_type": "code",
   "execution_count": null,
   "id": "b362bd87",
   "metadata": {},
   "outputs": [],
   "source": [
    "#Ask the user to input their age, and print out the datatype of it (hint: https://www.w3schools.com/python/ref_func_input.asp):\n"
   ]
  },
  {
   "cell_type": "markdown",
   "id": "f1907101",
   "metadata": {},
   "source": [
    "## Type Conversions\n",
    "Variables of one type can be converted to another. For now, we will cover the int() and str() functions (A function is just something that performs a specific task or makes changes to a variable). \n",
    "\n",
    "#### The int() function\n",
    "Demonstration:\n",
    "    ```int(\"345\")```\n",
    "    converts \"345\" (which is a string datatype as it is text) to 345 (which is an integer datatype as it is a number)\n",
    "    ```str(345)```\n",
    "    converts 345 (a integer datatype as it is a number) to \"345\" (a string datatype as it is text)\n",
    "    \n",
    "### Additional Help\n",
    "https://www.geeksforgeeks.org/convert-integer-to-string-in-python/"
   ]
  },
  {
   "cell_type": "code",
   "execution_count": null,
   "id": "8428d498",
   "metadata": {},
   "outputs": [],
   "source": [
    "#Create a variable year, and set it to the current year.\n",
    "\n",
    "#Try converting the variable to a integer\n",
    "\n",
    "#Check that the variable is an integer by printing its type"
   ]
  },
  {
   "cell_type": "code",
   "execution_count": null,
   "id": "6137289f",
   "metadata": {},
   "outputs": [],
   "source": [
    "#use the greeting variable you made earlier. Did you notice what happens when you try to convert that into an integer?"
   ]
  },
  {
   "cell_type": "markdown",
   "id": "015e5e57",
   "metadata": {},
   "source": [
    "## Challenge\n",
    "Andre has wrote some code below that resulted in an error. \n",
    "Can you fix his code?"
   ]
  },
  {
   "cell_type": "code",
   "execution_count": 5,
   "id": "d1f9ea17",
   "metadata": {},
   "outputs": [
    {
     "ename": "SyntaxError",
     "evalue": "invalid syntax (424298558.py, line 1)",
     "output_type": "error",
     "traceback": [
      "\u001b[1;36m  Input \u001b[1;32mIn [5]\u001b[1;36m\u001b[0m\n\u001b[1;33m    let yourage == input(\"Please enter your age: \"\u001b[0m\n\u001b[1;37m        ^\u001b[0m\n\u001b[1;31mSyntaxError\u001b[0m\u001b[1;31m:\u001b[0m invalid syntax\n"
     ]
    }
   ],
   "source": [
    "let yourage == input(\"Please enter your age: \"\n",
    "yourageinyears = yourage + \"years\"\n",
    "print(yourageinyears)\n"
   ]
  }
 ],
 "metadata": {
  "kernelspec": {
   "display_name": "Python 3 (ipykernel)",
   "language": "python",
   "name": "python3"
  },
  "language_info": {
   "codemirror_mode": {
    "name": "ipython",
    "version": 3
   },
   "file_extension": ".py",
   "mimetype": "text/x-python",
   "name": "python",
   "nbconvert_exporter": "python",
   "pygments_lexer": "ipython3",
   "version": "3.9.12"
  }
 },
 "nbformat": 4,
 "nbformat_minor": 5
}
