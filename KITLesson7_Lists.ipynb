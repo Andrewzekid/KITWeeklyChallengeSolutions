{
  "nbformat": 4,
  "nbformat_minor": 0,
  "metadata": {
    "colab": {
      "provenance": []
    },
    "kernelspec": {
      "name": "python3",
      "display_name": "Python 3"
    },
    "language_info": {
      "name": "python"
    }
  },
  "cells": [
    {
      "cell_type": "markdown",
      "source": [
        "# KIT Lesson 7 - Lists (Challenge-focused Notebook)\n",
        "In this lesson we covered lists and list methods. \n",
        "They are:\n",
        "\n",
        "\n",
        "---\n",
        "\n",
        "\n",
        "\n",
        "\n",
        "*   append()\tAdds an element at the end of the list\n",
        "*   clear()\tRemoves all the elements from the lis\n",
        "*   copy()\tReturns a copy of the list\n",
        "*   count()\tReturns the number of elements with the specified value\n",
        "*   extend()\tAdd the elements of a list (or any iterable), to the end of the current list\n",
        "*   index()\tReturns the index of the first element with the specified value\n",
        "*   insert()\tAdds an element at the specified position\n",
        "*   pop()\tRemoves the element at the specified position\n",
        "*   remove()\tRemoves the item with the specified value\n",
        "*   reverse()\tReverses the order of the list\n",
        "*   sort()\tSorts the list\n",
        "\n",
        "\n",
        "Note: Completion of the mini challenges will grant you 200 points for this notebook.\n",
        "\n",
        "\n",
        "\n",
        "\n",
        "\n",
        "\n",
        "\n",
        "\n",
        "\n",
        "\n",
        "\n",
        "\n",
        "\n"
      ],
      "metadata": {
        "id": "lXEkagNsbWAS"
      }
    },
    {
      "cell_type": "code",
      "source": [
        "#Create a list with numbers: 750, 500, 679, 890 to represent Andre's balance for Jan-April.\n",
        "\n",
        "Andre"
      ],
      "metadata": {
        "colab": {
          "base_uri": "https://localhost:8080/"
        },
        "id": "UqPHqXeKcEJ6",
        "outputId": "24988db4-f151-401d-d19c-ccdc326b47b7"
      },
      "execution_count": 2,
      "outputs": [
        {
          "output_type": "execute_result",
          "data": {
            "text/plain": [
              "[750, 500, 679, 890]"
            ]
          },
          "metadata": {},
          "execution_count": 2
        }
      ]
    },
    {
      "cell_type": "code",
      "source": [
        "#Sort this list in numerical order - Notice that sort is an \"inplace method\". It alters the value of the variable \"Andre\" without you having to directly reassign it ur self. \n",
        "#Non inplace methods dont do this. So you would have to manually do Andre = Andre.sort() for non inplace methods.\n",
        "\n",
        "print(Andre)"
      ],
      "metadata": {
        "colab": {
          "base_uri": "https://localhost:8080/"
        },
        "id": "2Gn7PhoUcP3A",
        "outputId": "a224179a-993a-461f-c436-a758b02238cb"
      },
      "execution_count": 3,
      "outputs": [
        {
          "output_type": "stream",
          "name": "stdout",
          "text": [
            "[500, 679, 750, 890]\n"
          ]
        }
      ]
    },
    {
      "cell_type": "code",
      "source": [
        "#Reverse this list OR sort it in descending numerical order\n",
        "\n",
        "Andre"
      ],
      "metadata": {
        "colab": {
          "base_uri": "https://localhost:8080/"
        },
        "id": "6wjAyjuucX_7",
        "outputId": "a6c39e1b-6f28-4511-eeae-4f1ade62cf62"
      },
      "execution_count": 4,
      "outputs": [
        {
          "output_type": "execute_result",
          "data": {
            "text/plain": [
              "[890, 750, 679, 500]"
            ]
          },
          "metadata": {},
          "execution_count": 4
        }
      ]
    },
    {
      "cell_type": "code",
      "source": [
        "#Now andres bank data from May to December has become available.\n",
        "#Due to bankruptcy from paying the school fee, the balance from may to december is: -1000,-2000,-1059,-1420,-456,-796,-5000,-10000\n",
        "#Create a new list named Andre_balance_maytodec and set it to a new list with these values\n",
        "\n",
        "Andre_balance_maytodec"
      ],
      "metadata": {
        "colab": {
          "base_uri": "https://localhost:8080/"
        },
        "id": "wyAmAEfGcwt0",
        "outputId": "ac7cec3b-def1-455d-bd2d-566b535dbeb1"
      },
      "execution_count": 5,
      "outputs": [
        {
          "output_type": "execute_result",
          "data": {
            "text/plain": [
              "[-1000, -2000, -1059, -1420, -456, -796, -5000, -10000]"
            ]
          },
          "metadata": {},
          "execution_count": 5
        }
      ]
    },
    {
      "cell_type": "code",
      "source": [
        "#Add this list to the variable Andre\n",
        "\n",
        "Andre"
      ],
      "metadata": {
        "colab": {
          "base_uri": "https://localhost:8080/"
        },
        "id": "Sft7nlSndat-",
        "outputId": "d97b1ef1-f886-417d-e3a2-7497bc2b6701"
      },
      "execution_count": 6,
      "outputs": [
        {
          "output_type": "execute_result",
          "data": {
            "text/plain": [
              "[890, 750, 679, 500, -1000, -2000, -1059, -1420, -456, -796, -5000, -10000]"
            ]
          },
          "metadata": {},
          "execution_count": 6
        }
      ]
    },
    {
      "cell_type": "code",
      "source": [
        "#Sort this list in ascending numerical order\n",
        "\n",
        "Andre"
      ],
      "metadata": {
        "colab": {
          "base_uri": "https://localhost:8080/"
        },
        "id": "fVJbvt_Pdm8c",
        "outputId": "d8182132-fde5-42f9-a574-a48bd736a8f4"
      },
      "execution_count": 7,
      "outputs": [
        {
          "output_type": "execute_result",
          "data": {
            "text/plain": [
              "[-10000, -5000, -2000, -1420, -1059, -1000, -796, -456, 500, 679, 750, 890]"
            ]
          },
          "metadata": {},
          "execution_count": 7
        }
      ]
    },
    {
      "cell_type": "code",
      "source": [
        "#Andre has been hacked and his data from december has disappeared! Change the list to reflect this.\n",
        "\n",
        "Andre"
      ],
      "metadata": {
        "colab": {
          "base_uri": "https://localhost:8080/"
        },
        "id": "BLLpvhjcdotN",
        "outputId": "eaf6d03f-3c60-48ca-970f-38b0f532901b"
      },
      "execution_count": 8,
      "outputs": [
        {
          "output_type": "execute_result",
          "data": {
            "text/plain": [
              "[-10000, -5000, -2000, -1420, -1059, -1000, -796, -456, 500, 679, 750, 890]"
            ]
          },
          "metadata": {},
          "execution_count": 8
        }
      ]
    },
    {
      "cell_type": "code",
      "source": [
        "#Andre has taken out a bank loan of 10000 and his new balance for december is 0. Add this value to the start of the list\n",
        "\n",
        "Andre"
      ],
      "metadata": {
        "colab": {
          "base_uri": "https://localhost:8080/"
        },
        "id": "4y-BuGzZd-ax",
        "outputId": "6e0d0950-ac21-4c68-8f11-f94102ef3f5b"
      },
      "execution_count": 9,
      "outputs": [
        {
          "output_type": "execute_result",
          "data": {
            "text/plain": [
              "[0, -10000, -5000, -2000, -1420, -1059, -1000, -796, -456, 500, 679, 750, 890]"
            ]
          },
          "metadata": {},
          "execution_count": 9
        }
      ]
    },
    {
      "cell_type": "code",
      "source": [
        "#A new month called Tricember (13) has been added. Andre has a balance of 3.14 for this month. Add this value to the end of the list\n",
        "\n",
        "Andre"
      ],
      "metadata": {
        "colab": {
          "base_uri": "https://localhost:8080/"
        },
        "id": "YT5MgqB9eXAa",
        "outputId": "5d27fe50-9b5e-47a6-a271-8c0c7180dc0f"
      },
      "execution_count": 10,
      "outputs": [
        {
          "output_type": "execute_result",
          "data": {
            "text/plain": [
              "[0,\n",
              " -10000,\n",
              " -5000,\n",
              " -2000,\n",
              " -1420,\n",
              " -1059,\n",
              " -1000,\n",
              " -796,\n",
              " -456,\n",
              " 500,\n",
              " 679,\n",
              " 750,\n",
              " 890,\n",
              " 3.14]"
            ]
          },
          "metadata": {},
          "execution_count": 10
        }
      ]
    },
    {
      "cell_type": "code",
      "source": [
        "#Print the index of the element for which andre's balance is -1420\n"
      ],
      "metadata": {
        "colab": {
          "base_uri": "https://localhost:8080/"
        },
        "id": "rBhCPvmxeqfZ",
        "outputId": "72fb4217-f111-4204-f849-eb3382ce151c"
      },
      "execution_count": 11,
      "outputs": [
        {
          "output_type": "execute_result",
          "data": {
            "text/plain": [
              "4"
            ]
          },
          "metadata": {},
          "execution_count": 11
        }
      ]
    },
    {
      "cell_type": "markdown",
      "source": [
        "# Challenge 1 [★] : Negative counter\n",
        "\n",
        "To evaluate his financial crisis, Andre has decided to see how many months of the year he is bankrupt (0 or negative balance). Using your knowledge of for loops and if statements, calculate the amount of times in this year he is \"bankrupt\"\n",
        "\n",
        "(Completion of this task alone will grant you 200 points)"
      ],
      "metadata": {
        "id": "0m6c21JPe2I0"
      }
    },
    {
      "cell_type": "code",
      "source": [
        "\n"
      ],
      "metadata": {
        "id": "KhU_rZu7fUk0",
        "colab": {
          "base_uri": "https://localhost:8080/"
        },
        "outputId": "0475979f-bca1-4b28-ec21-a88ee9bfab47"
      },
      "execution_count": 12,
      "outputs": [
        {
          "output_type": "stream",
          "name": "stdout",
          "text": [
            "9\n"
          ]
        }
      ]
    },
    {
      "cell_type": "markdown",
      "source": [
        "# Challenge 2 [★★] : Linear Search\n",
        "Code a for loop that will loop through all the elements of an unknown list and see if a certain element is in that list.\n",
        "\n",
        "\n",
        "(Completion of this task alone will grant you 250 points)"
      ],
      "metadata": {
        "id": "USdkU3hz7fOr"
      }
    },
    {
      "cell_type": "code",
      "source": [
        "#Create an example list (5 or more elements long) and loop through all elements of that list, seeing if a certain element is equal to the target element. print the index/position of the target element if it is found in the list\n",
        "#Hint: use the len() function with range() https://www.w3schools.com/python/ref_func_len.asp\n",
        "example_list = [1,3,4,5,6,7,8,9]\n",
        "target = 5\n"
      ],
      "metadata": {
        "colab": {
          "base_uri": "https://localhost:8080/"
        },
        "id": "DFx6EXCK7UEn",
        "outputId": "7cfeff4c-ebfa-4874-ee50-2eb7081b00f8"
      },
      "execution_count": 13,
      "outputs": [
        {
          "output_type": "stream",
          "name": "stdout",
          "text": [
            "Target found! Target is at index 3\n"
          ]
        }
      ]
    },
    {
      "cell_type": "code",
      "source": [],
      "metadata": {
        "id": "XwBmN27i8-bl"
      },
      "execution_count": null,
      "outputs": []
    }
  ]
}